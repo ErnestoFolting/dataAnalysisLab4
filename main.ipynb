{
 "cells": [
  {
   "cell_type": "markdown",
   "metadata": {},
   "source": [
    "Лабораторна робота № 4\n",
    "Смислов Даніл\n",
    "ІП-01\n",
    "\n",
    "Спочатку імпортуємо потрібні для роботи бібліотеки"
   ]
  },
  {
   "cell_type": "code",
   "execution_count": null,
   "metadata": {},
   "outputs": [],
   "source": [
    "from dataclasses import replace\n",
    "import pandas as pd \n",
    "import matplotlib.pyplot as plt"
   ]
  },
  {
   "cell_type": "markdown",
   "metadata": {},
   "source": [
    "Далі імпортуємо дані з файлу Data2.csv з кодуванням 'cp1252' та розділювачем ';'. Розглянемо структуру датафрейму."
   ]
  },
  {
   "cell_type": "code",
   "execution_count": null,
   "metadata": {},
   "outputs": [],
   "source": [
    "def getDataset():\n",
    "    data = pd.read_csv('Data2.csv',sep=';',encoding='cp1252')\n",
    "    return data \n",
    "\n",
    "dataset = getDataset()\n",
    "dataset.info()\n",
    "dataset.head(10)"
   ]
  },
  {
   "cell_type": "markdown",
   "metadata": {},
   "source": [
    "Бачимо, що проблема з типами даних. Напишемо функцію, що конвертує в тип float та заміняє ',' на '.'. Застосуємо до стовпців, перевіримо типи. "
   ]
  },
  {
   "cell_type": "code",
   "execution_count": null,
   "metadata": {},
   "outputs": [],
   "source": [
    "def toFloat(dataset,columnName):\n",
    "    dataset[columnName] = dataset[columnName].str.replace(',', '.').astype(float)\n",
    "\n",
    "toFloat(dataset,'GDP per capita')\n",
    "toFloat(dataset,'CO2 emission')\n",
    "toFloat(dataset,'Area')\n",
    "dataset.dtypes\n",
    "\n"
   ]
  },
  {
   "cell_type": "markdown",
   "metadata": {},
   "source": [
    "Окей, з типами проблему вирішили. Далі я помітив проблему з очевидно некоректними від'ємними даними в певних стовпцях. Давайте напишемо процедуру та замінимо від'ємні значення на абсолютні. Також для перевірки виведемо чи залишились в нас від'ємні значення. "
   ]
  },
  {
   "cell_type": "code",
   "execution_count": null,
   "metadata": {},
   "outputs": [],
   "source": [
    "def replaceNeg(dataset,columnName):\n",
    "    dataset[columnName] = abs(dataset[columnName])\n",
    "\n",
    "replaceNeg(dataset,'Area')\n",
    "replaceNeg(dataset,'GDP per capita')\n",
    "\n",
    "print(dataset[dataset['Area']<0])\n",
    "print(dataset[dataset['GDP per capita']<0])"
   ]
  },
  {
   "cell_type": "markdown",
   "metadata": {},
   "source": [
    "Також помітив, що є NULL значення. Давайте замінимо їх на середні значення. Перевіримо вигляд даних тепер."
   ]
  },
  {
   "cell_type": "code",
   "execution_count": null,
   "metadata": {},
   "outputs": [],
   "source": [
    "def replaceNull(dataset,columnName):\n",
    "    mean = dataset[columnName].mean()\n",
    "    dataset[columnName].fillna(mean,inplace = True)\n",
    "replaceNull(dataset,'CO2 emission')\n",
    "replaceNull(dataset,'GDP per capita')\n",
    "replaceNull(dataset,'Populatiion')\n",
    "dataset.head(10)\n"
   ]
  }
 ],
 "metadata": {
  "interpreter": {
   "hash": "cd33f47137b00f9a3c223ad7cd7ea8009173bfffa8c9627ff61bae578e5b56e2"
  },
  "kernelspec": {
   "display_name": "Python 3.10.4 64-bit",
   "language": "python",
   "name": "python3"
  },
  "language_info": {
   "codemirror_mode": {
    "name": "ipython",
    "version": 3
   },
   "file_extension": ".py",
   "mimetype": "text/x-python",
   "name": "python",
   "nbconvert_exporter": "python",
   "pygments_lexer": "ipython3",
   "version": "3.10.4"
  },
  "orig_nbformat": 4
 },
 "nbformat": 4,
 "nbformat_minor": 2
}
